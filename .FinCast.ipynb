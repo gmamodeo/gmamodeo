{
 "cells": [
  {
   "cell_type": "markdown",
   "metadata": {},
   "source": [
    "# Budgetting App\n",
    "This  is a budgetting app made to forecast salary after taxes, expenses, savings, and investments.\n",
    "I intend to use this project primarily to apply introductory financial concepts as I am trying to understand my personal finances and to practise data analysis and visualisation in Python. In the future this project could evolve into a personal finance forecasting app to help folks understanding their finances and planning for their financial goals, including mortgage payment, further education, savings, portfolio management, choosing between jobs, cities and you name it!"
   ]
  },
  {
   "cell_type": "markdown",
   "metadata": {},
   "source": [
    "## Salary and taxes\n",
    "* Determine your starting salary \n",
    "* Determine average annual tax rate\n",
    "* Calculate your take home salary after taxes\n",
    "* Calculate your monthly salary after taxes\n"
   ]
  },
  {
   "cell_type": "code",
   "execution_count": 12,
   "metadata": {},
   "outputs": [
    {
     "name": "stdout",
     "output_type": "stream",
     "text": [
      "Your salary after taxes is: 30600.0\n",
      "Your monthly salary after taxes is: 2550.0\n"
     ]
    }
   ],
   "source": [
    "# Enter your annual salary\n",
    "salary = 34000\n",
    "\n",
    "# Assume a tax rate of 10%\n",
    "tax_rate = 0.1\n",
    "\n",
    "# Calculate your salary after taxes\n",
    "salary_after_taxes = (1-tax_rate) * salary\n",
    "print(\"Your salary after taxes is: \" + str(round(salary_after_taxes,2)))\n",
    "\n",
    "# Calculate your monthly salary\n",
    "monthly_salary = salary_after_taxes/ 12\n",
    "print(\"Your monthly salary after taxes is: \" + str(round(monthly_salary,2)))"
   ]
  },
  {
   "cell_type": "markdown",
   "metadata": {},
   "source": [
    "## Monthly budget and savings\n",
    "* Determine your monthly savings rate\n",
    "* Compute your monthly savings\n",
    "* Compute your monthly budget from your montly salary minus your monthly savings\n",
    "* Allocate your budget to categories"
   ]
  },
  {
   "cell_type": "code",
   "execution_count": 24,
   "metadata": {},
   "outputs": [
    {
     "name": "stdout",
     "output_type": "stream",
     "text": [
      "Your monthly savings are: 510.0\n",
      "Your monthly budget is: 2040\n",
      "2040 have been allocated to your budget\n"
     ]
    }
   ],
   "source": [
    "# Determine your monthly savings rate\n",
    "monthly_savings_rate = 0.2\n",
    "\n",
    "# Compute your monthly savings\n",
    "monthly_savings = monthly_savings_rate * monthly_salary\n",
    "print(\"Your monthly savings are: \" + str(round(monthly_savings, 2)))\n",
    "\n",
    "# Compute your monthly budget\n",
    "monthly_budget = monthly_salary - monthly_savings\n",
    "print(\"Your monthly budget is: \" + str(round(monthly_budget)))\n",
    "\n",
    "# Create a list of dictionary for your budget's categories\n",
    "budget_list_of_dict = [\n",
    "    {\"Category\": \"Rent\", \"Amount\": 400 },\n",
    "    {\"Category\": \"Grocieries\", \"Amount\": 300},\n",
    "    {\"Category\": \"Utilities\", \"Amount\": 80},\n",
    "    {\"Category\": \"Transport\", \"Amount\": 100},\n",
    "    {\"Category\": \"Restaurants\", \"Amount\": 270},\n",
    "    {\"Category\": \"Entertainment\", \"Amount\": 200},\n",
    "    {\"Category\": \"Health\", \"Amount\": 450 },\n",
    "    {\"Category\": \"General\", \"Amount\": 40},\n",
    "    {\"Category\": \"Services\", \"Amount\": 46},\n",
    "    {\"Category\": \"Holiday\", \"Amount\": 154},\n",
    "]\n",
    "\n",
    "# Convert to pandas dataframe\n",
    "import pandas as pd\n",
    "budget_df = pd.DataFrame(budget_list_of_dict)\n",
    "print(str(budget_df[\"Amount\"].sum()) + \" have been allocated to your budget\")\n",
    "\n"
   ]
  }
 ],
 "metadata": {
  "kernelspec": {
   "display_name": "Python 3",
   "language": "python",
   "name": "python3"
  },
  "language_info": {
   "codemirror_mode": {
    "name": "ipython",
    "version": 3
   },
   "file_extension": ".py",
   "mimetype": "text/x-python",
   "name": "python",
   "nbconvert_exporter": "python",
   "pygments_lexer": "ipython3",
   "version": "3.10.8"
  },
  "orig_nbformat": 4
 },
 "nbformat": 4,
 "nbformat_minor": 2
}
